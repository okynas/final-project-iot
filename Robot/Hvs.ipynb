{
 "cells": [
  {
   "cell_type": "code",
   "execution_count": 1,
   "id": "foreign-blend",
   "metadata": {},
   "outputs": [
    {
     "data": {
      "application/vnd.jupyter.widget-view+json": {
       "model_id": "532d5283cb304709a43a2664f61a3ddc",
       "version_major": 2,
       "version_minor": 0
      },
      "text/plain": [
       "ClickableImageWidget(value=b'', height='480', width='640')"
      ]
     },
     "metadata": {},
     "output_type": "display_data"
    },
    {
     "data": {
      "application/vnd.jupyter.widget-view+json": {
       "model_id": "dbdbd0a2c48741dda694480d478c4e3f",
       "version_major": 2,
       "version_minor": 0
      },
      "text/plain": [
       "Label(value='Klikk på bildet for å se HSV-verdi')"
      ]
     },
     "metadata": {},
     "output_type": "display_data"
    },
    {
     "data": {
      "application/vnd.jupyter.widget-view+json": {
       "model_id": "aa7c4b41279c420da264f4ce4e3fde52",
       "version_major": 2,
       "version_minor": 0
      },
      "text/plain": [
       "Button(description='Ta bilde', style=ButtonStyle())"
      ]
     },
     "metadata": {},
     "output_type": "display_data"
    },
    {
     "name": "stdout",
     "output_type": "stream",
     "text": [
      "Kamera-feed med HSV-analyse på klikk er startet.\n"
     ]
    }
   ],
   "source": [
    "import cv2\n",
    "import numpy as np\n",
    "import os\n",
    "from jupyter_clickable_image_widget import ClickableImageWidget\n",
    "from IPython.display import display\n",
    "from Functions.USBCamera import USBCamera\n",
    "import ipywidgets as widgets\n",
    "from datetime import datetime\n",
    "from threading import Thread\n",
    "\n",
    "class RealTimeHSVAnalyzer:\n",
    "    def __init__(self, camera_width=640, camera_height=480):\n",
    "        # Start kamera\n",
    "        self.camera = USBCamera.instance(width=camera_width, height=camera_height)\n",
    "\n",
    "        # Set up ClickableImageWidget for display and Label for HSV info\n",
    "        self.image_widget = ClickableImageWidget(width=camera_width, height=camera_height)\n",
    "        self.hsv_label = widgets.Label(value=\"Klikk på bildet for å se HSV-verdi\")\n",
    "\n",
    "        # Set up button for taking snapshots\n",
    "        self.snapshot_button = widgets.Button(description=\"Ta bilde\")\n",
    "        self.snapshot_button.on_click(self.take_snapshot)\n",
    "\n",
    "        # Display widgets\n",
    "        display(self.image_widget)\n",
    "        display(self.hsv_label)\n",
    "        display(self.snapshot_button)\n",
    "\n",
    "        # Start en tråd for kontinuerlig oppdatering av widgeten\n",
    "        self.running = True\n",
    "        self.update_thread = Thread(target=self.update_widget, daemon=True)\n",
    "        self.update_thread.start()\n",
    "\n",
    "        # Set up event handler for clicks\n",
    "        self.image_widget.on_msg(self.on_click)\n",
    "        \n",
    "        # Prepare directory for saving snapshots\n",
    "        self.save_directory = os.path.join(os.getcwd(), \"snapshots\")\n",
    "        os.makedirs(self.save_directory, exist_ok=True)\n",
    "        \n",
    "        print(\"Kamera-feed med HSV-analyse på klikk er startet.\")\n",
    "\n",
    "    def convert_to_image_widget(self, frame):\n",
    "        \"\"\"Konverter bilde til en format egnet for visning i widgeten.\"\"\"\n",
    "        _, encoded_image = cv2.imencode('.jpg', frame)\n",
    "        return encoded_image.tobytes()\n",
    "\n",
    "    def update_widget(self):\n",
    "        \"\"\"Kontinuerlig oppdatering av widgeten med kamerarammen.\"\"\"\n",
    "        while self.running:\n",
    "            frame = self.camera.value\n",
    "            if frame is not None:\n",
    "                self.frame = frame\n",
    "                self.hsv_frame = cv2.cvtColor(frame, cv2.COLOR_RGB2HSV)\n",
    "                self.image_widget.value = self.convert_to_image_widget(frame)\n",
    "\n",
    "    def on_click(self, widget, content, msg=None):\n",
    "        \"\"\"Håndter klikk for å vise HSV-verdi.\"\"\"\n",
    "        click_x, click_y = int(content['eventData']['offsetX']), int(content['eventData']['offsetY'])\n",
    "\n",
    "        # Skaler koordinatene basert på widgetens dimensjoner\n",
    "        x = int(click_x * (self.hsv_frame.shape[1] / self.image_widget.width))\n",
    "        y = int(click_y * (self.hsv_frame.shape[0] / self.image_widget.height))\n",
    "\n",
    "        # Sjekk om klikket er innenfor bildet\n",
    "        if 0 <= x < self.hsv_frame.shape[1] and 0 <= y < self.hsv_frame.shape[0]:\n",
    "            hsv_value = self.hsv_frame[y, x]\n",
    "            self.hsv_label.value = f\"HSV-verdi ved ({x}, {y}): H={hsv_value[0]}, S={hsv_value[1]}, V={hsv_value[2]}\"\n",
    "            print(self.hsv_label.value)\n",
    "        else:\n",
    "            print(f\"Klikk utenfor bildet: ({x}, {y})\")\n",
    "\n",
    "    def take_snapshot(self, button):\n",
    "        \"\"\"Ta et snapshot og lagre det som en fil.\"\"\"\n",
    "        if self.frame is not None:\n",
    "            filename = f\"snapshot_{datetime.now().strftime('%Y%m%d_%H%M%S')}.jpg\"\n",
    "            filepath = os.path.join(self.save_directory, filename)\n",
    "            \n",
    "            cv2.imwrite(filepath, cv2.cvtColor(self.frame, cv2.COLOR_RGB2BGR))\n",
    "            print(f\"Bilde lagret som {filepath}\")\n",
    "        else:\n",
    "            print(\"Ingen ramme tilgjengelig å ta bilde av.\")\n",
    "\n",
    "    def stop(self):\n",
    "        \"\"\"Stopp kameraet og tråden.\"\"\"\n",
    "        self.running = False\n",
    "        self.update_thread.join()\n",
    "        self.camera.stop()\n",
    "        print(\"Kameraet er stoppet.\")\n",
    "\n",
    "# Start HSV-analyse\n",
    "analyzer = RealTimeHSVAnalyzer(camera_width=640, camera_height=480)\n"
   ]
  },
  {
   "cell_type": "code",
   "execution_count": null,
   "id": "south-continuity",
   "metadata": {},
   "outputs": [],
   "source": []
  }
 ],
 "metadata": {
  "kernelspec": {
   "display_name": "Python 3",
   "language": "python",
   "name": "python3"
  },
  "language_info": {
   "codemirror_mode": {
    "name": "ipython",
    "version": 3
   },
   "file_extension": ".py",
   "mimetype": "text/x-python",
   "name": "python",
   "nbconvert_exporter": "python",
   "pygments_lexer": "ipython3",
   "version": "3.6.9"
  }
 },
 "nbformat": 4,
 "nbformat_minor": 5
}
