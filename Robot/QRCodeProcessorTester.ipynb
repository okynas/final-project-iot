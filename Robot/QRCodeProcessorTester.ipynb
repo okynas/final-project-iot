{
 "cells": [
  {
   "cell_type": "code",
   "execution_count": 1,
   "id": "responsible-ontario",
   "metadata": {},
   "outputs": [
    {
     "data": {
      "application/vnd.jupyter.widget-view+json": {
       "model_id": "",
       "version_major": 2,
       "version_minor": 0
      },
      "text/plain": [
       "VBox(children=(Image(value=b'', format='jpeg', height='240', width='320'), Label(value='None')))"
      ]
     },
     "metadata": {},
     "output_type": "display_data"
    }
   ],
   "source": [
    "import cv2\n",
    "from pyzbar.pyzbar import decode\n",
    "import ipywidgets.widgets as widgets\n",
    "from IPython.display import display\n",
    "from Functions.USBCamera import USBCamera\n",
    "from threading import Thread\n",
    "import time\n",
    "\n",
    "class QRCodeProcessorTester:\n",
    "    def __init__(self, camera: USBCamera, process_interval_ms=500):\n",
    "        self.camera = camera\n",
    "        self.process_interval_ms = process_interval_ms / 1000.0\n",
    "        self.image_widget = widgets.Image(format='jpeg', width=camera.width // 2, height=camera.height // 2)\n",
    "        self.label_widget = widgets.Label(value=\"None\")\n",
    "        display(widgets.VBox([self.image_widget, self.label_widget]))\n",
    "\n",
    "        self.running = True\n",
    "        self.last_process_time = 0\n",
    "        self.thread = Thread(target=self._update, daemon=True)\n",
    "        self.thread.start()\n",
    "\n",
    "    def _update(self):\n",
    "        while self.running:\n",
    "            frame = self.camera.value\n",
    "            if frame is not None:\n",
    "                current_time = time.time()\n",
    "\n",
    "                frame_with_overlay = frame\n",
    "\n",
    "                if current_time - self.last_process_time >= self.process_interval_ms:\n",
    "                    self.last_process_time = current_time\n",
    "\n",
    "                    # Detekter QR-koder\n",
    "                    qr_data = self.detect_qr_code(frame)\n",
    "                    if qr_data:\n",
    "                        self.label_widget.value = \", \".join(qr_data)\n",
    "                    else:\n",
    "                        self.label_widget.value = \"None\"\n",
    "\n",
    "                # Oppdater widgeten\n",
    "                frame = cv2.cvtColor(frame, cv2.COLOR_RGB2BGR)\n",
    "                _, jpeg = cv2.imencode('.jpg', frame)\n",
    "                self.image_widget.value = jpeg.tobytes()\n",
    "\n",
    "    def detect_qr_code(self, frame):\n",
    "        \"\"\"Dekode QR-koder fra bildet.\"\"\"\n",
    "        decoded_objects = decode(frame)\n",
    "        if decoded_objects:\n",
    "            return [obj.data.decode('utf-8') for obj in decoded_objects]\n",
    "        return []\n",
    "\n",
    "\n",
    "    def stop(self):\n",
    "        \"\"\"Stopp oppdateringen.\"\"\"\n",
    "        self.running = False\n",
    "        self.thread.join()\n",
    "\n",
    "camera = USBCamera.instance(width=640, height=480)\n",
    "qr_detector = QRCodeProcessorTester(camera, process_interval_ms=500)"
   ]
  },
  {
   "cell_type": "code",
   "execution_count": null,
   "id": "paperback-profession",
   "metadata": {},
   "outputs": [],
   "source": []
  }
 ],
 "metadata": {
  "kernelspec": {
   "display_name": "Python 3",
   "language": "python",
   "name": "python3"
  },
  "language_info": {
   "codemirror_mode": {
    "name": "ipython",
    "version": 3
   },
   "file_extension": ".py",
   "mimetype": "text/x-python",
   "name": "python",
   "nbconvert_exporter": "python",
   "pygments_lexer": "ipython3",
   "version": "3.6.9"
  }
 },
 "nbformat": 4,
 "nbformat_minor": 5
}
